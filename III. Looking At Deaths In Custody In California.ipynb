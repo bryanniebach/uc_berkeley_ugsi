{
 "cells": [
  {
   "cell_type": "code",
   "execution_count": null,
   "metadata": {
    "collapsed": true
   },
   "outputs": [],
   "source": [
    "#Run this cell\n",
    "from datascience import *\n",
    "import pandas as pd \n",
    "from pandas import read_stata\n",
    "import numpy as np\n",
    "import pandas as pd\n",
    "from collections import Counter\n",
    "\n",
    "import matplotlib\n",
    "matplotlib.use('Agg', warn=False)\n",
    "%matplotlib inline\n",
    "import matplotlib.pyplot as plots\n",
    "plots.style.use('fivethirtyeight')\n",
    "import warnings\n",
    "warnings.simplefilter(action=\"ignore\", category=FutureWarning)"
   ]
  },
  {
   "cell_type": "markdown",
   "metadata": {},
   "source": [
    "# Lab 2 – Looking At Deaths In Custody In California"
   ]
  },
  {
   "cell_type": "markdown",
   "metadata": {},
   "source": [
    "This lab will draw on data from the California State Department of Justice available on the Open Justice Web site at the following link: https://openjustice.doj.ca.gov/data\n",
    "\n",
    "There are four files associated with the data set on Death in Custody & Arrest Related Deaths in California: \n",
    "\n",
    "(1) Summary (2) Data Dictionary (3) Raw (4) Read Me."
   ]
  },
  {
   "cell_type": "markdown",
   "metadata": {},
   "source": [
    "## I. Exploring the Data"
   ]
  },
  {
   "cell_type": "markdown",
   "metadata": {},
   "source": [
    "Use any of the files that you think are necessary to explore the data and answer the following questions."
   ]
  },
  {
   "cell_type": "markdown",
   "metadata": {},
   "source": [
    "<font color=\"Blue\"> Item 1: Import the data set."
   ]
  },
  {
   "cell_type": "code",
   "execution_count": null,
   "metadata": {
    "collapsed": false
   },
   "outputs": [],
   "source": [
    "#Import data set\n",
    "first_data = Table.read_table('***INSERT CSV FILE NAME***')\n",
    "first_data.show(2)"
   ]
  },
  {
   "cell_type": "markdown",
   "metadata": {},
   "source": [
    "<font color=\"Blue\"> Item 2: How many in-custody & arrest related (ICAR) deaths are reported in the data set?"
   ]
  },
  {
   "cell_type": "markdown",
   "metadata": {},
   "source": [
    "You may have noticed that one of the columns combines the data for in-custody & arrest related (ICAR) deaths, use this."
   ]
  },
  {
   "cell_type": "code",
   "execution_count": null,
   "metadata": {
    "collapsed": false
   },
   "outputs": [],
   "source": [
    "#Select the column and sum the data \n",
    "icar_deaths = first_data***INSERT SELECT CODE***('***COLUMN NAME***').***INSERT SUM FUNCTION***\n",
    "icar_deaths[***COLUMN NUMBER***][***ROW NUMBER***]"
   ]
  },
  {
   "cell_type": "markdown",
   "metadata": {},
   "source": [
    "<font color=\"Blue\"> Item 3: What is the average number of ICAR deaths per year?"
   ]
  },
  {
   "cell_type": "code",
   "execution_count": null,
   "metadata": {
    "collapsed": false
   },
   "outputs": [],
   "source": [
    "#Calculate the average ICAR deaths per year\n",
    "icar_deaths = first_data***INSERT GROUP CODE***('***COLUMN NAME***', ***INSERT MEAN FUNCTION***)\n",
    "icar_deaths_mean = icar_deaths***INSERT SELECT CODE***(['***COLUMN NAME***', '***COLUMN NAME***'])\n",
    "icar_deaths_mean"
   ]
  },
  {
   "cell_type": "markdown",
   "metadata": {},
   "source": [
    "<font color=\"Blue\"> Item 4: Calculate the percentage change from year to year."
   ]
  },
  {
   "cell_type": "markdown",
   "metadata": {},
   "source": [
    "To calculate the percentage change from year to year, use the following forumla:\n",
    "\n",
    "$$\\left(\\frac{ last year - first year}{first year}\\right)* 100$$"
   ]
  },
  {
   "cell_type": "code",
   "execution_count": null,
   "metadata": {
    "collapsed": false
   },
   "outputs": [],
   "source": [
    "#Make a def function to calculate percentage change anually\n",
    "def computer_percentage(array):\n",
    "    change = ***INITIAL VALUE***\n",
    "    for i in range (***START VALUE***, ***ITERATE VALUE***):\n",
    "        percent_change = ***INSERT FORMULA***\n",
    "        change.append(***INSERT VALUE NAME***)\n",
    "    return ****INSERT VARIABLE***\n",
    "\n",
    "icar_percentage_change = icar_deaths_mean***INSERT COLUMN FUNCTION***('percent change', computer_percentage(icar_deaths_mean.column('all_deaths mean')))\n",
    "icar_percentage_change = icar_percentage_change***INSERT DROP CODE***('***COLUMN NAME***')\n",
    "icar_percentage_change"
   ]
  },
  {
   "cell_type": "markdown",
   "metadata": {},
   "source": [
    "<font color=\"Blue\"> Item 5: Calculate the percentage change from first year to last year."
   ]
  },
  {
   "cell_type": "code",
   "execution_count": null,
   "metadata": {
    "collapsed": false
   },
   "outputs": [],
   "source": [
    "#First year value\n",
    "first_year = icar_deaths_mean[***COLUMN NUMBER***][***ROW NUMBER***]\n",
    "first_year"
   ]
  },
  {
   "cell_type": "code",
   "execution_count": null,
   "metadata": {
    "collapsed": false
   },
   "outputs": [],
   "source": [
    "#Last year value\n",
    "last_year = icar_deaths_mean[***COLUMN NUMBER***][***ROW NUMBER***]\n",
    "last_year"
   ]
  },
  {
   "cell_type": "code",
   "execution_count": null,
   "metadata": {
    "collapsed": false
   },
   "outputs": [],
   "source": [
    "#Calculate percentage change from first to last year\n",
    "percentage_comparison = ***INSERT PERCENTAGE FORMULA***\n",
    "percentage_comparison"
   ]
  },
  {
   "cell_type": "markdown",
   "metadata": {},
   "source": [
    "<font color=\"Blue\"> Item 6: Create a line graph to display the percentage change from year to year. Label the vertical axis 'percent change' and the horizantal axis 'year'. "
   ]
  },
  {
   "cell_type": "code",
   "execution_count": null,
   "metadata": {
    "collapsed": false
   },
   "outputs": [],
   "source": [
    "#Create a line graph\n",
    "icar_percentage_change***INSERT LINE GRAPH CODE***('***COLUMN NAME***')"
   ]
  },
  {
   "cell_type": "markdown",
   "metadata": {},
   "source": [
    "<font color=\"Blue\"> Item 7: What is the most common reason for ICAR deaths?"
   ]
  },
  {
   "cell_type": "markdown",
   "metadata": {},
   "source": [
    "You may have noticed that you have to import a new data set in order to answer the following questions."
   ]
  },
  {
   "cell_type": "code",
   "execution_count": null,
   "metadata": {
    "collapsed": false
   },
   "outputs": [],
   "source": [
    "#Import another data set\n",
    "second_data = ***INSERT TABLE FUNCTION***('***INSERT FILE NAME***')\n",
    "second_data.show(2)"
   ]
  },
  {
   "cell_type": "code",
   "execution_count": null,
   "metadata": {
    "collapsed": false
   },
   "outputs": [],
   "source": [
    "#Select the common reason column \n",
    "icar_common_reason = second_data***INSERT SELECT CODE***('***COLUMN NAME***')\n",
    "icar_common_reason"
   ]
  },
  {
   "cell_type": "code",
   "execution_count": null,
   "metadata": {
    "collapsed": false
   },
   "outputs": [],
   "source": [
    "#Group by common reasons for death and generate a count for each\n",
    "icar_common_reason = icar_common_reason***INSERT GROUP CODE***('***COLUMN NAME***')\n",
    "icar_common_reason.show()"
   ]
  },
  {
   "cell_type": "code",
   "execution_count": null,
   "metadata": {
    "collapsed": false
   },
   "outputs": [],
   "source": [
    "#Find the maximum count \n",
    "***INSERT MAX CODE***(icar_common_reason['***COLUMN NAME***'])"
   ]
  },
  {
   "cell_type": "markdown",
   "metadata": {},
   "source": [
    "Written Response:"
   ]
  },
  {
   "cell_type": "markdown",
   "metadata": {},
   "source": [
    "<font color=\"Blue\"> Item 8: Which California county reports the most ICAR deaths?"
   ]
  },
  {
   "cell_type": "code",
   "execution_count": null,
   "metadata": {
    "collapsed": false
   },
   "outputs": [],
   "source": [
    "#Group by county and generate a count for each\n",
    "ca_county = second_data***INSERT GROUP CODE***('***COLUMN NAME***')\n",
    "ca_county.show()"
   ]
  },
  {
   "cell_type": "code",
   "execution_count": null,
   "metadata": {
    "collapsed": false
   },
   "outputs": [],
   "source": [
    "#Find the maximum count \n",
    "***INSERT MAX CODE***(ca_county['***COLUMN NAME***'])"
   ]
  },
  {
   "cell_type": "markdown",
   "metadata": {},
   "source": [
    "Written Response:"
   ]
  },
  {
   "cell_type": "markdown",
   "metadata": {},
   "source": [
    "<font color=\"Blue\"> Item 9: Are more ICAR deaths reported by State or by local law enforcement agencies?"
   ]
  },
  {
   "cell_type": "code",
   "execution_count": null,
   "metadata": {
    "collapsed": false
   },
   "outputs": [],
   "source": [
    "#Group by agencies and generate a count for each\n",
    "agency = second_data***INSERT GROUP CODE***('***COLUMN NAME***')\n",
    "agency.show()"
   ]
  },
  {
   "cell_type": "code",
   "execution_count": null,
   "metadata": {
    "collapsed": false
   },
   "outputs": [],
   "source": [
    "#Calculate local reports\n",
    "local_report = ***INSERT MAX CODE***(agency['***COLUMN NAME***'])\n",
    "local_report"
   ]
  },
  {
   "cell_type": "code",
   "execution_count": null,
   "metadata": {
    "collapsed": false
   },
   "outputs": [],
   "source": [
    "#Calculate state reports\n",
    "state_report = ***ADD EACH STATE COUNT ROW***\n",
    "state_report"
   ]
  },
  {
   "cell_type": "markdown",
   "metadata": {},
   "source": [
    "Written Response:"
   ]
  },
  {
   "cell_type": "markdown",
   "metadata": {},
   "source": [
    "<font color=\"Blue\"> Item 10: Which agencies report the most ICAR deaths in Alameda County?"
   ]
  },
  {
   "cell_type": "code",
   "execution_count": null,
   "metadata": {
    "collapsed": false
   },
   "outputs": [],
   "source": [
    "#Select Alameda county\n",
    "alameda_county = second_data***INSERT FILTER CODE***('***COLUMN NAME***', \"***FILTER WORD***\")\n",
    "alameda_county.show(2)"
   ]
  },
  {
   "cell_type": "code",
   "execution_count": null,
   "metadata": {
    "collapsed": false
   },
   "outputs": [],
   "source": [
    "#Group by agency in Alameda county\n",
    "common_agency_alameda = alameda_county***INSERT GROUP CODE***('***COLUMN NAME***')\n",
    "common_agency_alameda"
   ]
  },
  {
   "cell_type": "code",
   "execution_count": null,
   "metadata": {
    "collapsed": false
   },
   "outputs": [],
   "source": [
    "#Find the maximum count\n",
    "***INSERT MAX CODE***(common_alameda['***COLUMN NAME***'])"
   ]
  },
  {
   "cell_type": "markdown",
   "metadata": {},
   "source": [
    "Written Response:"
   ]
  },
  {
   "cell_type": "markdown",
   "metadata": {},
   "source": [
    "<font color=\"Blue\"> Item 11: Pick another county and answer the same question: which agencies report the most ICAR\n",
    "deaths?"
   ]
  },
  {
   "cell_type": "code",
   "execution_count": null,
   "metadata": {
    "collapsed": false
   },
   "outputs": [],
   "source": [
    "#Pick a random county\n",
    "***COUNTY NAME***_county = second_data***INSERT FILTER CODE***('***COLUMN NAME***', \"***FILTER WORD***\")\n",
    "***COUNTY NAME***_county.show(2)"
   ]
  },
  {
   "cell_type": "code",
   "execution_count": null,
   "metadata": {
    "collapsed": false
   },
   "outputs": [],
   "source": [
    "#Group by agency in your chosen county\n",
    "common_alameda_san_fran = ***COUNTY NAME***_county***INSERT GROUP CODE***('***COLUMN NAME***')\n",
    "common_alameda_san_fran"
   ]
  },
  {
   "cell_type": "code",
   "execution_count": null,
   "metadata": {
    "collapsed": false
   },
   "outputs": [],
   "source": [
    "#Find the maximum count\n",
    "***INSERT MAX CODE***(common_alameda_san_fran['***COLUMN NAME***'])"
   ]
  },
  {
   "cell_type": "markdown",
   "metadata": {},
   "source": [
    "Written Response:"
   ]
  },
  {
   "cell_type": "markdown",
   "metadata": {
    "collapsed": true
   },
   "source": [
    "## II. Preparation for Next Class"
   ]
  },
  {
   "cell_type": "markdown",
   "metadata": {
    "collapsed": true
   },
   "source": [
    "<font color=\"Blue\"> Item 12: What might explain the change from year to year?"
   ]
  },
  {
   "cell_type": "markdown",
   "metadata": {},
   "source": [
    "Written Response:"
   ]
  },
  {
   "cell_type": "markdown",
   "metadata": {},
   "source": [
    "<font color=\"Blue\"> Item 13: Do you see any reason for dropping observations from the data set? Why or why not"
   ]
  },
  {
   "cell_type": "markdown",
   "metadata": {
    "collapsed": true
   },
   "source": [
    "Written Response:"
   ]
  },
  {
   "cell_type": "markdown",
   "metadata": {},
   "source": [
    "<font color=\"Blue\"> Item 14: What do we know about the distribution of California’s population entirely apart from the dataset and how does that affect our thinking about the distribution of ICAR deaths by county?"
   ]
  },
  {
   "cell_type": "markdown",
   "metadata": {},
   "source": [
    "Written Response:"
   ]
  },
  {
   "cell_type": "markdown",
   "metadata": {},
   "source": [
    "<font color=\"Blue\"> Item 15: Other than population, what might explain the number of ICAR deaths in a county?"
   ]
  },
  {
   "cell_type": "markdown",
   "metadata": {},
   "source": [
    "Written Response:"
   ]
  },
  {
   "cell_type": "markdown",
   "metadata": {},
   "source": [
    "<font color=\"Blue\"> Item 16: Looking at the agencies that report the most ICAR deaths within different counties, what might explain the predominance of one agency over another?"
   ]
  },
  {
   "cell_type": "markdown",
   "metadata": {},
   "source": [
    "Written Response:"
   ]
  },
  {
   "cell_type": "markdown",
   "metadata": {},
   "source": [
    "## III. Exploration of Data "
   ]
  },
  {
   "cell_type": "markdown",
   "metadata": {},
   "source": [
    "􏰀Your exploration of the data will be easier if you: \n",
    "\n",
    "(1) Rename some variables – many of the variables have unnecessarily long and unwieldy names\n",
    "\n",
    "(2) Recode some variables – some of the codes and groupings within variables are problematic"
   ]
  },
  {
   "cell_type": "markdown",
   "metadata": {},
   "source": [
    "Congradulations you finished Lab 2! "
   ]
  }
 ],
 "metadata": {
  "anaconda-cloud": {},
  "kernelspec": {
   "display_name": "Python [conda env:ds]",
   "language": "python",
   "name": "conda-env-ds-py"
  },
  "language_info": {
   "codemirror_mode": {
    "name": "ipython",
    "version": 3
   },
   "file_extension": ".py",
   "mimetype": "text/x-python",
   "name": "python",
   "nbconvert_exporter": "python",
   "pygments_lexer": "ipython3",
   "version": "3.5.2"
  }
 },
 "nbformat": 4,
 "nbformat_minor": 1
}
