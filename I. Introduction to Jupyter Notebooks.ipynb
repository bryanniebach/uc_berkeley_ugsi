{
 "cells": [
  {
   "cell_type": "markdown",
   "metadata": {},
   "source": [
    "# Lab 00 - Introduction to Python & Notebooks"
   ]
  },
  {
   "cell_type": "markdown",
   "metadata": {},
   "source": [
    "## I. Introduction\n",
    "\n",
    "Hello, there! Welcome to Jupyter. \n",
    "\n",
    "The Jupyter platform enables students to explore data, test out code, and run real programs in a compact environment.\n",
    "\n",
    "Before we can get started, you will need to run the cell below. It will make sure that we have all resources needed to guide you along in the notebook. To run a cell, **simply click on it, and press `shift` and `return`** at the same time.\n",
    "\n",
    "Note: difference between running locally versus online."
   ]
  },
  {
   "cell_type": "code",
   "execution_count": null,
   "metadata": {
    "collapsed": false,
    "scrolled": true
   },
   "outputs": [],
   "source": [
    "from datascience import *\n",
    "import numpy as np\n",
    "%matplotlib inline\n",
    "import matplotlib.pyplot as plt"
   ]
  },
  {
   "cell_type": "markdown",
   "metadata": {},
   "source": [
    "## II. Running Cells\n",
    "\n",
    "Depending on what type of cell is run, the notebook will interpret different instructions. For example, this cell is a `markdown` cell, so when it runs, the notebook will know to display text. This is particularly helpful if you have more than a couple comments to make.\n",
    "\n",
    "In contrast, the cell you ran above was a `code` cell. When you run it, Jupyter interpreted the contents of the cell as **[Python](http://python.org)** code, compiled the given information, and then displayed the output. Code cells are also special in that they have an **indicator**:\n",
    "\n",
    "`In [1]:` the number between the square brackets helps you keep track of the order in which you run code cells.\n",
    "\n",
    "`In [*]:` the asterisk means that the contents of the cell are currently running. Once the code compiles (or errors) the notebook will display a number.\n",
    "\n",
    "Now that you have an idea how to interpret and use Jupyter notebooks, let's dive into some code!"
   ]
  },
  {
   "cell_type": "markdown",
   "metadata": {},
   "source": [
    "### A. Numbers\n",
    "These notebooks will run and display code similar to a command line. Run some of the cells below to see their output."
   ]
  },
  {
   "cell_type": "code",
   "execution_count": null,
   "metadata": {
    "collapsed": false
   },
   "outputs": [],
   "source": [
    "4"
   ]
  },
  {
   "cell_type": "code",
   "execution_count": null,
   "metadata": {
    "collapsed": false
   },
   "outputs": [],
   "source": [
    "119"
   ]
  },
  {
   "cell_type": "code",
   "execution_count": null,
   "metadata": {
    "collapsed": false
   },
   "outputs": [],
   "source": [
    "2,200"
   ]
  },
  {
   "cell_type": "markdown",
   "metadata": {},
   "source": [
    "**Oh! What happened to that last number?** In Python syntax, we leave out commas when referencing large numbers. In the cell below, type the numerical version of **two-thousand seventeen** so that Jupyter can interpret your input as a  number."
   ]
  },
  {
   "cell_type": "code",
   "execution_count": null,
   "metadata": {
    "collapsed": false
   },
   "outputs": [],
   "source": [
    "2017"
   ]
  },
  {
   "cell_type": "markdown",
   "metadata": {},
   "source": [
    "Whole numbers seem to work fine, but what happens if we want to represent fractions? Run the cells below."
   ]
  },
  {
   "cell_type": "code",
   "execution_count": null,
   "metadata": {
    "collapsed": false
   },
   "outputs": [],
   "source": [
    "1/2"
   ]
  },
  {
   "cell_type": "code",
   "execution_count": null,
   "metadata": {
    "collapsed": false
   },
   "outputs": [],
   "source": [
    "0.5"
   ]
  },
  {
   "cell_type": "code",
   "execution_count": null,
   "metadata": {
    "collapsed": false
   },
   "outputs": [],
   "source": [
    "1/3"
   ]
  },
  {
   "cell_type": "code",
   "execution_count": null,
   "metadata": {
    "collapsed": false
   },
   "outputs": [],
   "source": [
    "3/8"
   ]
  },
  {
   "cell_type": "markdown",
   "metadata": {},
   "source": [
    "In Python, there are two main types of numbers. One, we call **`int`**, or integers, and the other we call **`float`** or floating-point numbers. `int`s are whole numbers whereas `float`s have one or more numbers after a decimal point."
   ]
  },
  {
   "cell_type": "markdown",
   "metadata": {},
   "source": [
    "### B. Operators\n",
    "Sure it's cool that Jupyter can display numbers, but the notebook can do much more. Because it acts as an `interpreter`, we can ask the notebook to perform more complicated tasks than display numbers—for example, computing mathematical operations: (run the cells below)"
   ]
  },
  {
   "cell_type": "code",
   "execution_count": null,
   "metadata": {
    "collapsed": false
   },
   "outputs": [],
   "source": [
    "1 + 1"
   ]
  },
  {
   "cell_type": "code",
   "execution_count": null,
   "metadata": {
    "collapsed": false
   },
   "outputs": [],
   "source": [
    "2 * 2"
   ]
  },
  {
   "cell_type": "code",
   "execution_count": null,
   "metadata": {
    "collapsed": false
   },
   "outputs": [],
   "source": [
    "3 - 5"
   ]
  },
  {
   "cell_type": "code",
   "execution_count": null,
   "metadata": {
    "collapsed": false
   },
   "outputs": [],
   "source": [
    "2 / 5"
   ]
  },
  {
   "cell_type": "markdown",
   "metadata": {
    "collapsed": false
   },
   "source": [
    "### C. Variables\n",
    "Operators enable us to truly make use of these environments. But sometimes we want to \"memorize\" or retain a computation so that we may use it for later. In order to achieve this, we use **`variables`**. Assigning a variable looks something like this: \n",
    "\n",
    "`variable_name = ...` where `variable_name` meets the following criteria:\n",
    "\n",
    "* the name starts with a letter or an underscore\n",
    "* the name contains only letters, digits, or underscores\n",
    "* the name is not part of [Python's reserved keywords](https://docs.python.org/2.5/ref/keywords.html)\n",
    "\n",
    "Provided that your code does not have errors, the variable's value can take on almost any value.\n",
    "\n",
    "*Pro-tip: the equals sign `(=)` is also an operator! It is called the `assignment operator`.*"
   ]
  },
  {
   "cell_type": "code",
   "execution_count": null,
   "metadata": {
    "collapsed": false
   },
   "outputs": [],
   "source": [
    "# Lines that start with a hashtag in a code cell are called comments.\n",
    "# The interpreter will ignore what is in these lines.\n",
    "\n",
    "# Assign the value of the variable one_third to be one third.\n",
    "# Replace the elipses (...) with your solution and run the cell.\n",
    "\n",
    "one_third = 1/3\n",
    "one_third"
   ]
  },
  {
   "cell_type": "markdown",
   "metadata": {},
   "source": [
    "### D. Other Types of Data\n",
    "In addition to numbers (`int`s and `float`s), there are two other main types of classifying variable types: `string`s and `boolean`s (a.k.a `bool`s).\n",
    "\n",
    "* **Strings** - any text\n",
    "* **Bools** - `True`/`False` values\n",
    "\n",
    "Below are some examples of assigned bools. It is important to note that `True` and `False` are only valid values/keywords if their first letter is capitalized."
   ]
  },
  {
   "cell_type": "code",
   "execution_count": null,
   "metadata": {
    "collapsed": false
   },
   "outputs": [],
   "source": [
    "is_this_fun = True\n",
    "two_times_two_is_seven = False\n",
    "pugs_are_beans = False\n",
    "data_science = True"
   ]
  },
  {
   "cell_type": "markdown",
   "metadata": {
    "collapsed": false
   },
   "source": [
    "Strings are special in that there is a particular syntax we need to use in order to appropriately assign a value to a variable. In order to assign a variable a `string` value, we must encapsulate the text in either single quotes (`''`) or double quotes (`\"\"`). Check out the examples below:"
   ]
  },
  {
   "cell_type": "code",
   "execution_count": null,
   "metadata": {
    "collapsed": false
   },
   "outputs": [],
   "source": [
    "#1\n",
    "one = 'Hello, world! '\n",
    "one\n",
    "\n",
    "#2\n",
    "two = \"It's nice to see you.\"\n",
    "two"
   ]
  },
  {
   "cell_type": "markdown",
   "metadata": {},
   "source": [
    "Though single quotes and double quotes can be used interchangeably, it is necessary that they come in pairs and you do not mix-and-match them. For example, run the following cell and examine the output."
   ]
  },
  {
   "cell_type": "code",
   "execution_count": null,
   "metadata": {
    "collapsed": false
   },
   "outputs": [],
   "source": [
    "#3\n",
    "three = 'Is this okay?\"\n",
    "three"
   ]
  },
  {
   "cell_type": "markdown",
   "metadata": {},
   "source": [
    "Sometimes, we want to combine variables that aren't just numbers. When we want to combine variables that are strings, the process is called `concatenation`. Concatenation is achieved using the `+` operator."
   ]
  },
  {
   "cell_type": "code",
   "execution_count": null,
   "metadata": {
    "collapsed": false
   },
   "outputs": [],
   "source": [
    "combined = one + two\n",
    "combined"
   ]
  },
  {
   "cell_type": "markdown",
   "metadata": {},
   "source": [
    "In the cell below, assign the variable `string_concat` to the phrase: `Hello, world! Lovely day it is.` using **only** variables."
   ]
  },
  {
   "cell_type": "code",
   "execution_count": null,
   "metadata": {
    "collapsed": false
   },
   "outputs": [],
   "source": [
    "#'Hello, world! Lovely day it is.'\n",
    "hello = ' world!'\n",
    "world = ' Lovely '\n",
    "it_is = \"day it \"\n",
    "day = \"Hello,\"\n",
    "lovely = \"is.\"\n",
    "\n",
    "string_concat = day + hello + world + it_is + lovely\n",
    "string_concat"
   ]
  },
  {
   "cell_type": "markdown",
   "metadata": {},
   "source": [
    "### E. Quick Summary & Review\n",
    "This was a quick crash course into the Jupyter notebook environment, as well as an introduction to Python syntax. To make sure we didn't lose you along the way, fill in the appropriate values for the variables below and run the final ok test at the end."
   ]
  },
  {
   "cell_type": "code",
   "execution_count": null,
   "metadata": {
    "collapsed": false
   },
   "outputs": [],
   "source": [
    "#1 number\n",
    "three_sevenths = 3 / 7 \n",
    "three_sevenths\n",
    "\n",
    "#2 string\n",
    "the_word_amazing = 'amazing'\n",
    "the_word_amazing\n",
    "\n",
    "#3 [boolean]\n",
    "it_is_currently_2017 = True\n",
    "it_is_currently_2017\n",
    "\n",
    "#4 division\n",
    "seven_hundred_two_divided_by_five = 702 / 5\n",
    "seven_hundred_two_divided_by_five \n",
    "\n",
    "#5 number as string\n",
    "forty_two_as_string = '42'\n",
    "forty_two_as_string\n",
    "\n",
    "#6 [string] Hint: two words\n",
    "the_equals_sign_is_called_the = 'assignment operator'\n",
    "the_equals_sign_is_called_the "
   ]
  },
  {
   "cell_type": "markdown",
   "metadata": {},
   "source": [
    "## Congratulations!\n",
    "You made it to the end of this tutorial. The Python language is vast and expansive, and we've only scratched the surface of the capabilities of Jupyter notebooks—they can display graphs, read data, compute complex computations in the blink of an eye, and even help you visualize data. But for now, small steps."
   ]
  }
 ],
 "metadata": {
  "anaconda-cloud": {},
  "kernelspec": {
   "display_name": "Python [default]",
   "language": "python",
   "name": "python3"
  },
  "language_info": {
   "codemirror_mode": {
    "name": "ipython",
    "version": 3
   },
   "file_extension": ".py",
   "mimetype": "text/x-python",
   "name": "python",
   "nbconvert_exporter": "python",
   "pygments_lexer": "ipython3",
   "version": "3.5.2"
  }
 },
 "nbformat": 4,
 "nbformat_minor": 1
}
