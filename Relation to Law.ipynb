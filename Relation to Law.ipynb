{
 "cells": [
  {
   "cell_type": "markdown",
   "metadata": {},
   "source": [
    "# Lab 03 - Demographic of California Arrests"
   ]
  },
  {
   "cell_type": "code",
   "execution_count": null,
   "metadata": {
    "collapsed": false
   },
   "outputs": [],
   "source": [
    "from datascience import *\n",
    "import numpy as np\n",
    "%matplotlib inline\n",
    "import matplotlib.pyplot as plt\n",
    "\n",
    "!pip install -U okpy\n",
    "from client.api.notebook import Notebook\n",
    "ok = Notebook('lab03.ok')"
   ]
  },
  {
   "cell_type": "markdown",
   "metadata": {},
   "source": [
    "## Arrests\n",
    "\n",
    "The [Open Justice](https://openjustice.doj.ca.gov/data) website enables interested Data Scientists to explore real data in real time. You have probably already used a few data sets from this resource! Today we will be exploring a fairly large dataset **(~50k) records** and learn some new tricks to data exploration along the way.\n",
    "\n",
    "In this assignment we will explore data, create graphs, and answer the question: *in the last 35 years, is there a particular trend in the demographic of arrests?*  \n",
    "\n",
    "Along the way you will:\n",
    "\n",
    "* programmatically load data into an interactive notebook.\n",
    "* learn to plot and create graphs to visually interpret data.\n",
    "* use different methods to process, clean, and sift through data.\n",
    "* make inferences about arrests in the state of California."
   ]
  },
  {
   "cell_type": "markdown",
   "metadata": {},
   "source": [
    "### 1. Importing the Data\n",
    "Before we can start exploring our data with `Tables`, we must first import it.\n",
    "Fill in the name of the dataset below, and run the cell to import the data."
   ]
  },
  {
   "cell_type": "code",
   "execution_count": null,
   "metadata": {
    "collapsed": false
   },
   "outputs": [],
   "source": [
    "# Import the dataset\n",
    "all_arrests = Table.read_table('NAME_OF_FILE')\n",
    "all_arrests.show(2)"
   ]
  },
  {
   "cell_type": "code",
   "execution_count": null,
   "metadata": {
    "collapsed": false
   },
   "outputs": [],
   "source": [
    "_ = ok.grade('q01')"
   ]
  },
  {
   "cell_type": "markdown",
   "metadata": {},
   "source": [
    "#### Narrowing the Data\n",
    "You should notice that this dataset has a bunch of columns. In fact, there are **83** of them! For our purposes, we do not need this extra information, so we will `select` the columns we are interested in. Selecting columns enables us to focus only on the data that we care about."
   ]
  },
  {
   "cell_type": "code",
   "execution_count": null,
   "metadata": {
    "collapsed": false
   },
   "outputs": [],
   "source": [
    "# Select the year, county, gender, race, and age group columns\n",
    "arrests = all_arrests.select(['INSERT COLUMN NAMES HERE'])\n",
    "arrests.show(5)"
   ]
  },
  {
   "cell_type": "markdown",
   "metadata": {},
   "source": [
    "### 2. By the Numbers\n",
    "Now that our data is imported and trimmed down, we can quickly find out some interesting statistics about what exactly we're looking at."
   ]
  },
  {
   "cell_type": "code",
   "execution_count": null,
   "metadata": {
    "collapsed": false
   },
   "outputs": [],
   "source": [
    "# Find the number of arrests in the entire dataset\n",
    "number_of_arrests = ...\n",
    "number_of_arrests"
   ]
  },
  {
   "cell_type": "code",
   "execution_count": null,
   "metadata": {
    "collapsed": false
   },
   "outputs": [],
   "source": [
    "_ = ok.grade('q02a')"
   ]
  },
  {
   "cell_type": "code",
   "execution_count": null,
   "metadata": {
    "collapsed": false
   },
   "outputs": [],
   "source": [
    "# Now we will find information regarding particular features such as\n",
    "# race and age group. We can achieve this using the group method.\n",
    "\n",
    "# Group the arrests by the age group\n",
    "arrests_by_age_group = ...\n",
    "arrests_by_age_group"
   ]
  },
  {
   "cell_type": "code",
   "execution_count": null,
   "metadata": {
    "collapsed": false
   },
   "outputs": [],
   "source": [
    "_ = ok.grade('q02b')"
   ]
  },
  {
   "cell_type": "code",
   "execution_count": null,
   "metadata": {
    "collapsed": false
   },
   "outputs": [],
   "source": [
    "# Group the arrests by the race\n",
    "arrests_by_race = ...\n",
    "arrests_by_race"
   ]
  },
  {
   "cell_type": "code",
   "execution_count": null,
   "metadata": {
    "collapsed": false
   },
   "outputs": [],
   "source": [
    "_ = ok.grade('q02c')"
   ]
  },
  {
   "cell_type": "code",
   "execution_count": null,
   "metadata": {
    "collapsed": false
   },
   "outputs": [],
   "source": [
    "# Group the arrests by gender\n",
    "arrests_by_gender = ...\n",
    "arrests_by_gender"
   ]
  },
  {
   "cell_type": "code",
   "execution_count": null,
   "metadata": {
    "collapsed": false
   },
   "outputs": [],
   "source": [
    "_ = ok.grade('q02d')"
   ]
  },
  {
   "cell_type": "markdown",
   "metadata": {},
   "source": [
    "### 3. Visualization\n",
    "Numbers can sometimes be difficult to interpret. Luckily, there are `methods` that make sense of these numbers by turning them into charts, graphs, and histograms. We'll be learning some of these methods in this next section."
   ]
  },
  {
   "cell_type": "code",
   "execution_count": null,
   "metadata": {
    "collapsed": false
   },
   "outputs": [],
   "source": [
    "# Run this cell to see the visuals created\n",
    "arrests_by_age_group.barh('AGE_GROUP', 'count')\n",
    "arrests_by_race.bar('RACE', 'count')\n",
    "arrests_by_gender.barh('GENDER', 'count')"
   ]
  },
  {
   "cell_type": "markdown",
   "metadata": {},
   "source": [
    "### Understanding the Data\n",
    "At a superficial glace, we might say that younger individuals in California (under age 45) are more likely to be arrested than those older age 45. Likewise, males are more likely to be arrested than females. Over the course of 35 years, we can also say that White individuals have been arrested more than any other race.\n",
    "\n",
    "But perhaps, we need to dive in a little deeper."
   ]
  },
  {
   "cell_type": "markdown",
   "metadata": {},
   "source": [
    "### 4. More Exploration\n",
    "Let's take a look at what happens as the years progress."
   ]
  },
  {
   "cell_type": "code",
   "execution_count": null,
   "metadata": {
    "collapsed": false
   },
   "outputs": [],
   "source": [
    "# Run this cell below, examine the output, and answer the question below\n",
    "arrests_by_year = ...\n",
    "arrests_by_year"
   ]
  },
  {
   "cell_type": "markdown",
   "metadata": {},
   "source": [
    "#### Why do you think the number of arrests generally increases over the years?"
   ]
  },
  {
   "cell_type": "markdown",
   "metadata": {},
   "source": [
    "Written Response:"
   ]
  }
 ],
 "metadata": {
  "anaconda-cloud": {},
  "kernelspec": {
   "display_name": "Python [default]",
   "language": "python",
   "name": "python3"
  },
  "language_info": {
   "codemirror_mode": {
    "name": "ipython",
    "version": 3
   },
   "file_extension": ".py",
   "mimetype": "text/x-python",
   "name": "python",
   "nbconvert_exporter": "python",
   "pygments_lexer": "ipython3",
   "version": "3.5.2"
  }
 },
 "nbformat": 4,
 "nbformat_minor": 1
}
