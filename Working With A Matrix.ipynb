{
 "cells": [
  {
   "cell_type": "code",
   "execution_count": null,
   "metadata": {
    "collapsed": false
   },
   "outputs": [],
   "source": [
    "#Run this cell\n",
    "from datascience import *\n",
    "import pandas as pd \n",
    "from pandas import read_stata\n",
    "import numpy as np\n",
    "import datetime\n",
    "\n",
    "import matplotlib\n",
    "matplotlib.use('Agg', warn=False)\n",
    "%matplotlib inline\n",
    "import matplotlib.pyplot as plots\n",
    "plots.style.use('fivethirtyeight')\n",
    "import warnings\n",
    "warnings.simplefilter(action=\"ignore\", category=FutureWarning)"
   ]
  },
  {
   "cell_type": "markdown",
   "metadata": {},
   "source": [
    "# Lab 1 - Working With A Matrix"
   ]
  },
  {
   "cell_type": "markdown",
   "metadata": {},
   "source": [
    "This lab involves moving data from a website to our Jupyter Notebook and then running some simple analyses of the data. The functionality required to complete the lab will be run in Python.\n",
    "\n",
    "Please take some time to discover different options in the lab, experiment and see what the different functions do (suggestions below for how to get started). We will discuss this in class on the 31st and I will send out a written exercise for you to work on the following week."
   ]
  },
  {
   "cell_type": "markdown",
   "metadata": {},
   "source": [
    "## I. Getting the Data "
   ]
  },
  {
   "cell_type": "markdown",
   "metadata": {},
   "source": [
    "In this lab, we are going to analyze the data set composed of the people who died in custody. \n",
    "\n",
    "Navigate to the Texas Justice Initiative web page at the following link: http://texasjusticeinitiative.org/ \n",
    "\n",
    "Select the “Download Data Set” link underneath the word “Overview”.  \n",
    "\n",
    "If you have Excel on your computer, chances are that the file will open in Excel as your\n",
    "default. However, if you do not have Excel on your computer, save the file somewhere that you can find it\n",
    "on your computer.\n",
    "\n",
    "Once the file has been downloaded, resume back to Jupyter Notebook's home page. Click on the “File” tab and select “Upload”. The file should be labeled as \"custodial_deaths.csv\". \n",
    "\n",
    "Typically, we would be able to import the data set immediately. However, for this particular data set, we need to clean before importing the data. "
   ]
  },
  {
   "cell_type": "markdown",
   "metadata": {},
   "source": [
    "<font color=\"Blue\"> Item 1: Clean and import the data set."
   ]
  },
  {
   "cell_type": "code",
   "execution_count": null,
   "metadata": {
    "collapsed": false
   },
   "outputs": [],
   "source": [
    "#Clean and import data\n",
    "custodial_deaths = Table().read_table('***INSERT FILE NAME***', ***INSERT CLEANNING CODE***)\n",
    "custodial_deaths"
   ]
  },
  {
   "cell_type": "markdown",
   "metadata": {},
   "source": [
    "Check that your answers are in the correct format. "
   ]
  },
  {
   "cell_type": "code",
   "execution_count": null,
   "metadata": {
    "collapsed": false
   },
   "outputs": [],
   "source": [
    "_ = ok.grade('q1')"
   ]
  },
  {
   "cell_type": "markdown",
   "metadata": {
    "collapsed": true
   },
   "source": [
    "## II. Exploring the Functions"
   ]
  },
  {
   "cell_type": "markdown",
   "metadata": {},
   "source": [
    "We will now explore different functions for manipulating the dataset until desired. \n",
    "\n",
    "You probably have noticed that in Google Sheets, it does not fix your “header row.” Note that the header row is different from the other rows, it needs to be fixed in place because it is the row that contains the label for the data in the sheet.\n",
    "\n",
    "However, luckily in Jupyter Notebooks, it automatically freezes the top row in place for you!"
   ]
  },
  {
   "cell_type": "markdown",
   "metadata": {},
   "source": [
    "<font color=\"Blue\"> Item 2: Sort the column labeled \"First Name\" in chronological order (A -> Z)."
   ]
  },
  {
   "cell_type": "code",
   "execution_count": null,
   "metadata": {
    "collapsed": false
   },
   "outputs": [],
   "source": [
    "#Chronological order\n",
    "sort_data = custodial_deaths***INSERT CHRONOLOGICAL CODE***('***COLUMN NAME***')\n",
    "sort_data"
   ]
  },
  {
   "cell_type": "markdown",
   "metadata": {},
   "source": [
    "<font color=\"Blue\"> Item 3: Sort the column labeled \"First Name\" in reverse chronological order (Z -> A)."
   ]
  },
  {
   "cell_type": "code",
   "execution_count": null,
   "metadata": {
    "collapsed": false
   },
   "outputs": [],
   "source": [
    "#Reverse chronological order\n",
    "reverse_sort_data = custodial_deaths***INSERT CHRONOLOGICAL CODE***('***COLUMN NAME***', ***INSERT REVERSE CHRONOLOGICAL CODE***)\n",
    "reverse_sort_data"
   ]
  },
  {
   "cell_type": "markdown",
   "metadata": {},
   "source": [
    "<font color=\"Blue\"> Item 4: Filter the table to only display the Female data. You can do this by selecting the \"Sex\" column, then searching through each row to find \"Female\"."
   ]
  },
  {
   "cell_type": "code",
   "execution_count": null,
   "metadata": {
    "collapsed": false
   },
   "outputs": [],
   "source": [
    "#Filter the table to display Female\n",
    "female_data = custodial_deaths***INSERT FILTER CODE***('***COLUMN NAME***', \"***FILTER WORD***\")\n",
    "female_data"
   ]
  },
  {
   "cell_type": "markdown",
   "metadata": {
    "collapsed": true
   },
   "source": [
    "<font color=\"Blue\"> Item 5: Apply multiple filters, specifically select Hispanic Female data."
   ]
  },
  {
   "cell_type": "code",
   "execution_count": null,
   "metadata": {
    "collapsed": false
   },
   "outputs": [],
   "source": [
    "#Filter table to display Hispanic Females\n",
    "hispanic_female_data = female_data***INSERT FILTER CODE***('***COLUMN NAME***', \"***FILTER WORD***\")\n",
    "hispanic_female_data"
   ]
  },
  {
   "cell_type": "markdown",
   "metadata": {
    "collapsed": false
   },
   "source": [
    "<font color=\"Blue\"> Item 6: Split the Death Date column into four seperate columns including: Time, Month, Day, Year"
   ]
  },
  {
   "cell_type": "markdown",
   "metadata": {},
   "source": [
    "You may have noticed that some of the data contains a value labeled as \"nan\". Although we could get rid of this, it would be taking out important data. For that reason, we will be replacing the nan values with arbituary replacement values."
   ]
  },
  {
   "cell_type": "code",
   "execution_count": null,
   "metadata": {
    "collapsed": false
   },
   "outputs": [],
   "source": [
    "#Replace nan values with random dates\n",
    "temp_df = sort_data.to_df()\n",
    "temp_df['***COLUMN NAME***'].replace('***VALUE BEING REPLACED***', '1000-01-01 00:00:00', inplace=True)\n",
    "sort_data = Table().from_df(temp_df)\n",
    "sort_data"
   ]
  },
  {
   "cell_type": "code",
   "execution_count": null,
   "metadata": {
    "collapsed": false
   },
   "outputs": [],
   "source": [
    "# Making a function that takes a string date and returns a datetime object\n",
    "apply_datetime = lambda x: datetime.datetime***INSERT STRIP TIME CODE***(x, \"%Y-%m-%d %X\")\n",
    "\n",
    "# Apply that function\n",
    "datetime_objects = ***INSERT CODE TO APPLY FUNCTION***(apply_datetime, '***COLUMN NAME***')\n",
    "datetime_objects"
   ]
  },
  {
   "cell_type": "code",
   "execution_count": null,
   "metadata": {
    "collapsed": false
   },
   "outputs": [],
   "source": [
    "# Adding the objects as a new column\n",
    "organized_data = sort_data.with_column('***COLUMN NAME***', datetime_objects)\n",
    "organized_data"
   ]
  },
  {
   "cell_type": "code",
   "execution_count": null,
   "metadata": {
    "collapsed": false
   },
   "outputs": [],
   "source": [
    "#Apply functions to make new columns\n",
    "organized_data['***COLUMN NAME***'] = ***INSERT FUNCTION***(lambda x: x.time(), datetime_objects)\n",
    "organized_data['***COLUMN NAME***'] = ***INSERT FUNCTION***(lambda x: x.month, datetime_objects)\n",
    "organized_data['***COLUMN NAME***'] = ***INSERT FUNCTION***(lambda x: x.day, datetime_objects)\n",
    "organized_data['***COLUMN NAME***'] = ***INSERT FUNCTION***(lambda x: x.year, datetime_objects)\n",
    "organized_data"
   ]
  },
  {
   "cell_type": "markdown",
   "metadata": {},
   "source": [
    "<font color=\"Blue\"> Item 7: Make a pivot table by adding the \"Manner Death\" for the rows, and the \"Charges Status\" for the columns."
   ]
  },
  {
   "cell_type": "markdown",
   "metadata": {},
   "source": [
    "The pivot method operates on a table in which a specific column and row is selected, then returns the counts. \n",
    "\n",
    "Through this method, pivot takes as its first argument the name of the column that contains values to be used as column labels. The second argument is the name of the column that contains values to be used as row labels. Each unique value in this input column appears in a separate row as the first entry. The third argument is the source of the values, which in this case, counts are used and they are aggregated by summing."
   ]
  },
  {
   "cell_type": "code",
   "execution_count": null,
   "metadata": {
    "collapsed": false
   },
   "outputs": [],
   "source": [
    "#Pivot table\n",
    "pivot_data = ***INSERT PIVOT CODE***('***FIRST ARGUMENT COLUMN NAME***', '***SECOND ARGUMENT COLUMN NAME***')\n",
    "pivot_data"
   ]
  },
  {
   "cell_type": "markdown",
   "metadata": {},
   "source": [
    "<font color=\"Blue\"> Item 8: Calculate the minimum age, maximum age, median age, total sum, and average age. "
   ]
  },
  {
   "cell_type": "markdown",
   "metadata": {},
   "source": [
    "Python appears to be a little picky. In class I was able to get a count based on a name. However, Python appears to be looking for a field that is comprised of numbers, not words. Try coverting the \"Age\" column data from a string to a number format."
   ]
  },
  {
   "cell_type": "code",
   "execution_count": null,
   "metadata": {
    "collapsed": false
   },
   "outputs": [],
   "source": [
    "#Replace string nan values with arbituary 00.0 number values\n",
    "age_reformat = sort_data.to_df()\n",
    "age_reformat['***COLUMN NAME***'].replace('***VALUE BEING REPLACED***', ***ARBITUARY NUMERIC VALUE***, inplace=True)\n",
    "new_age_data = Table().from_df(age_reformat)\n",
    "new_age_data"
   ]
  },
  {
   "cell_type": "code",
   "execution_count": null,
   "metadata": {
    "collapsed": false
   },
   "outputs": [],
   "source": [
    "#Calculate the min, max, median, and sum age\n",
    "age_stats = new_age_data.select('***COLUMN NAME***')***INSERT MULTI FUNCTION STATS CODE***\n",
    "age_stats"
   ]
  },
  {
   "cell_type": "code",
   "execution_count": null,
   "metadata": {
    "collapsed": false
   },
   "outputs": [],
   "source": [
    "#Calculate the mean age\n",
    "age_mean = ***INSERT MEAN FUNCTION CODE***(new_age_data['***COLUMN NAME***'])\n",
    "age_mean"
   ]
  },
  {
   "cell_type": "markdown",
   "metadata": {},
   "source": [
    "<font color=\"Blue\"> Item 9: How many people under the age of 18 are in the dataset?"
   ]
  },
  {
   "cell_type": "code",
   "execution_count": null,
   "metadata": {
    "collapsed": false
   },
   "outputs": [],
   "source": [
    "#Make a new variable for the people under age 18\n",
    "under_eighteen = organized_data.where('***COLUMN NAME***', ***INSERT VALUE***)\n",
    "under_eighteen"
   ]
  },
  {
   "cell_type": "code",
   "execution_count": null,
   "metadata": {
    "collapsed": false
   },
   "outputs": [],
   "source": [
    "#Count the number of people under age 18\n",
    "under_eighteen_count = organized_data***INSERT FILTER CODE***('***COLUMN NAME***', ***INSERT VALUE***)***INSERT ROW COUNT CODE***\n",
    "under_eighteen_count"
   ]
  },
  {
   "cell_type": "markdown",
   "metadata": {},
   "source": [
    "<font color=\"Blue\"> Item 10: What is the most common reason listed for death?"
   ]
  },
  {
   "cell_type": "code",
   "execution_count": null,
   "metadata": {
    "collapsed": false
   },
   "outputs": [],
   "source": [
    "#Apply pivot table method\n",
    "common_death =  ***INSERT PIVOT CODE***('***FIRST ARGUMENT COLUMN NAME***', '***SECOND ARGUMENT COLUMN NAME***')\n",
    "common_death"
   ]
  },
  {
   "cell_type": "code",
   "execution_count": null,
   "metadata": {
    "collapsed": false
   },
   "outputs": [],
   "source": [
    "#Sum the pivot table data\n",
    "common_death***INSERT DROP CODE***('***DROPPED COLUMN NAME***')***INSERT SUM CODE***"
   ]
  },
  {
   "cell_type": "code",
   "execution_count": null,
   "metadata": {
    "collapsed": false
   },
   "outputs": [],
   "source": [
    "#Output the most common reason listed for death\n",
    "common_death***INSERT SELECT CODE***('***INSERT MOST COMMON DEATH COLUMN***')***INSERT SUM CODE***"
   ]
  },
  {
   "cell_type": "markdown",
   "metadata": {},
   "source": [
    "<font color=\"Blue\"> Item 11: What is the most common reason listed for people under 18 years of age?"
   ]
  },
  {
   "cell_type": "code",
   "execution_count": null,
   "metadata": {
    "collapsed": false
   },
   "outputs": [],
   "source": [
    "#Apply pivot table method\n",
    "common_death_eighteen =  ***INSERT PIVOT CODE***('***FIRST ARGUMENT COLUMN NAME***', '***SECOND ARGUMENT COLUMN NAME***')\n",
    "common_death_eighteen"
   ]
  },
  {
   "cell_type": "code",
   "execution_count": null,
   "metadata": {
    "collapsed": false
   },
   "outputs": [],
   "source": [
    "#Sum the pivot table data\n",
    "common_death_eighteen***INSERT DROP CODE***('***DROPPED COLUMN NAME***').sum()"
   ]
  },
  {
   "cell_type": "code",
   "execution_count": null,
   "metadata": {
    "collapsed": false
   },
   "outputs": [],
   "source": [
    "#Output the most common reason listed for people under 18\n",
    "common_death_eighteen***INSERT SELECT CODE***('***INSERT MOST COMMON REASON COLUMN***').sum()"
   ]
  },
  {
   "cell_type": "markdown",
   "metadata": {},
   "source": [
    "<font color=\"Blue\"> Item 12: What’s the average age of the people in the database?"
   ]
  },
  {
   "cell_type": "code",
   "execution_count": null,
   "metadata": {
    "collapsed": false
   },
   "outputs": [],
   "source": [
    "#Calculate the average age\n",
    "age_mean = ***CALCULATE MEAN CODE***(new_age_data['***COLUMN NAME***'])\n",
    "age_mean"
   ]
  },
  {
   "cell_type": "markdown",
   "metadata": {},
   "source": [
    "<font color=\"Blue\"> Item 13: What is the most common charge status for people in the database?"
   ]
  },
  {
   "cell_type": "code",
   "execution_count": null,
   "metadata": {
    "collapsed": false
   },
   "outputs": [],
   "source": [
    "#Apply pivot table\n",
    "common_charge = ***INSERT PIVOT CODE***('***FIRST ARGUMENT COLUMN NAME***', '***SECOND ARGUMENT COLUMN NAME***')\n",
    "common_charge"
   ]
  },
  {
   "cell_type": "code",
   "execution_count": null,
   "metadata": {
    "collapsed": false
   },
   "outputs": [],
   "source": [
    "#Sum the pivot table data\n",
    "common_charge***INSERT DROP CODE***('***DROPPED COLUMN NAME***').sum()"
   ]
  },
  {
   "cell_type": "code",
   "execution_count": null,
   "metadata": {
    "collapsed": false
   },
   "outputs": [],
   "source": [
    "#Output the most common charge listed for people\n",
    "common_charge***INSERT SELECT CODE***('***INSERT MOST COMMON CHARGE COLUMN***').sum()"
   ]
  },
  {
   "cell_type": "markdown",
   "metadata": {},
   "source": [
    "<font color=\"Blue\"> Item 14: What is the most common reason listed for death for people whose charge status is\n",
    "“not filed at time.”"
   ]
  },
  {
   "cell_type": "code",
   "execution_count": null,
   "metadata": {
    "collapsed": false
   },
   "outputs": [],
   "source": [
    "#Apply pivot table\n",
    "not_filed_pivot = ***INSERT PIVOT CODE***('***FIRST ARGUMENT COLUMN NAME***', '***SECOND ARGUMENT COLUMN NAME***')\n",
    "not_filed_pivot***INSERT ROW CODE***[***ROW NUMBER***][***COLUMN NUMBER***]"
   ]
  },
  {
   "cell_type": "markdown",
   "metadata": {
    "collapsed": true
   },
   "source": [
    "<font color=\"Blue\"> Item 15: What does any of this mean? How are these cases counted and classified? Who reports this information to whom and why? Review the Texas Justice Initiative web page, especially the “about” link and the “about the data” link under that. Read the article from The Atlantic linked in the syllabus."
   ]
  },
  {
   "cell_type": "markdown",
   "metadata": {},
   "source": [
    "Written Response: "
   ]
  },
  {
   "cell_type": "markdown",
   "metadata": {},
   "source": [
    "Congratulations, you finished Lab 1. Now you are a step closer in understanding pressing questions that would normally take hours for people to figure out! "
   ]
  }
 ],
 "metadata": {
  "anaconda-cloud": {},
  "kernelspec": {
   "display_name": "Python [default]",
   "language": "python",
   "name": "python3"
  },
  "language_info": {
   "codemirror_mode": {
    "name": "ipython",
    "version": 3
   },
   "file_extension": ".py",
   "mimetype": "text/x-python",
   "name": "python",
   "nbconvert_exporter": "python",
   "pygments_lexer": "ipython3",
   "version": "3.5.2"
  }
 },
 "nbformat": 4,
 "nbformat_minor": 2
}
